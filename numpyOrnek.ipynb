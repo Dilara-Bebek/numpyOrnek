{
 "cells": [
  {
   "cell_type": "code",
   "execution_count": 12,
   "id": "47a02920",
   "metadata": {},
   "outputs": [
    {
     "name": "stdout",
     "output_type": "stream",
     "text": [
      "[1 2 3 4 5]\n",
      "[[1 2 3]\n",
      " [4 5 6]]\n"
     ]
    }
   ],
   "source": [
    "import numpy as np\n",
    "\n",
    "# 1D array oluşturma\n",
    "arr = np.array([1, 2, 3, 4, 5])\n",
    "print(arr)\n",
    "\n",
    "# 2D array oluşturma\n",
    "arr = np.array([[1, 2, 3], [4, 5, 6]])\n",
    "print(arr)"
   ]
  },
  {
   "cell_type": "code",
   "execution_count": 13,
   "id": "b874522b",
   "metadata": {},
   "outputs": [
    {
     "name": "stdout",
     "output_type": "stream",
     "text": [
      "[[1 4]\n",
      " [2 5]\n",
      " [3 6]]\n"
     ]
    }
   ],
   "source": [
    "# 2D array'in transpozunu alma\n",
    "arr = np.array([[1, 2, 3], [4, 5, 6]])\n",
    "transposed_arr = arr.T\n",
    "print(transposed_arr)"
   ]
  },
  {
   "cell_type": "code",
   "execution_count": 14,
   "id": "9f3ecfe2",
   "metadata": {},
   "outputs": [
    {
     "name": "stdout",
     "output_type": "stream",
     "text": [
      "[[1. 1. 1. 1.]\n",
      " [1. 1. 1. 1.]]\n"
     ]
    }
   ],
   "source": [
    "# 2x4 birlerden oluşan array\n",
    "ones_arr = np.ones((2, 4))\n",
    "print(ones_arr)"
   ]
  },
  {
   "cell_type": "code",
   "execution_count": 15,
   "id": "db279553",
   "metadata": {},
   "outputs": [
    {
     "name": "stdout",
     "output_type": "stream",
     "text": [
      "[0 2 4 6 8]\n"
     ]
    }
   ],
   "source": [
    "# 0'dan 10'a kadar 2'şer artan array\n",
    "range_arr = np.arange(0, 10, 2)\n",
    "print(range_arr)"
   ]
  },
  {
   "cell_type": "code",
   "execution_count": 16,
   "id": "3c00f052",
   "metadata": {},
   "outputs": [
    {
     "name": "stdout",
     "output_type": "stream",
     "text": [
      "[0.   0.25 0.5  0.75 1.  ]\n"
     ]
    }
   ],
   "source": [
    "# 0 ile 1 arasında 5 eşit aralıklı değer\n",
    "linspace_arr = np.linspace(0, 1, 5)\n",
    "print(linspace_arr)"
   ]
  },
  {
   "cell_type": "code",
   "execution_count": 17,
   "id": "213bfd16",
   "metadata": {},
   "outputs": [
    {
     "name": "stdout",
     "output_type": "stream",
     "text": [
      "[[0.06560244 0.54607059 0.07706115]\n",
      " [0.63913044 0.91396307 0.35542142]\n",
      " [0.77811773 0.96330531 0.34503907]]\n"
     ]
    }
   ],
   "source": [
    "# 3x3 rastgele sayılardan oluşan array\n",
    "random_arr = np.random.rand(3, 3)\n",
    "print(random_arr)"
   ]
  },
  {
   "cell_type": "code",
   "execution_count": 18,
   "id": "5ca5cfa8",
   "metadata": {},
   "outputs": [
    {
     "name": "stdout",
     "output_type": "stream",
     "text": [
      "[[1 2 3]\n",
      " [4 5 6]]\n"
     ]
    }
   ],
   "source": [
    "# 1D array'i 2D array'e çevirme\n",
    "arr = np.array([1, 2, 3, 4, 5, 6])\n",
    "reshaped_arr = arr.reshape(2, 3)\n",
    "print(reshaped_arr)"
   ]
  },
  {
   "cell_type": "code",
   "execution_count": 19,
   "id": "01b4e6fd",
   "metadata": {},
   "outputs": [
    {
     "name": "stdout",
     "output_type": "stream",
     "text": [
      "6\n",
      "[[2 3]\n",
      " [5 6]]\n"
     ]
    }
   ],
   "source": [
    "# 2D array'den belirli bir elemanı seçme\n",
    "arr = np.array([[1, 2, 3], [4, 5, 6]])\n",
    "element = arr[1, 2]  # 2. satır, 3. sütun\n",
    "print(element)\n",
    "\n",
    "# Dilimleme\n",
    "sliced_arr = arr[:, 1:3]  # Tüm satırlar, 2. ve 3. sütunlar\n",
    "print(sliced_arr)"
   ]
  },
  {
   "cell_type": "code",
   "execution_count": 20,
   "id": "f22075f2",
   "metadata": {},
   "outputs": [
    {
     "name": "stdout",
     "output_type": "stream",
     "text": [
      "Toplam: 10\n",
      "Ortalama: 2.5\n",
      "Maksimum: 4\n"
     ]
    }
   ],
   "source": [
    "# Array üzerinde matematiksel işlemler\n",
    "arr = np.array([1, 2, 3, 4])\n",
    "sum_arr = np.sum(arr)  # Toplam\n",
    "mean_arr = np.mean(arr)  # Ortalama\n",
    "max_arr = np.max(arr)  # Maksimum değer\n",
    "\n",
    "print(\"Toplam:\", sum_arr)\n",
    "print(\"Ortalama:\", mean_arr)\n",
    "print(\"Maksimum:\", max_arr)"
   ]
  },
  {
   "cell_type": "code",
   "execution_count": 10,
   "id": "c0aeda9a",
   "metadata": {},
   "outputs": [
    {
     "name": "stdout",
     "output_type": "stream",
     "text": [
      "Filtrelenmiş Array: [3 4 5]\n"
     ]
    }
   ],
   "source": [
    "# Belirli bir koşula göre array elemanlarını filtreleme\n",
    "arr = np.array([1, 2, 3, 4, 5])\n",
    "filtered_arr = arr[arr > 2]\n",
    "print(\"Filtrelenmiş Array:\", filtered_arr)"
   ]
  },
  {
   "cell_type": "code",
   "execution_count": null,
   "id": "19e797e5",
   "metadata": {},
   "outputs": [],
   "source": []
  }
 ],
 "metadata": {
  "kernelspec": {
   "display_name": "Python 3 (ipykernel)",
   "language": "python",
   "name": "python3"
  },
  "language_info": {
   "codemirror_mode": {
    "name": "ipython",
    "version": 3
   },
   "file_extension": ".py",
   "mimetype": "text/x-python",
   "name": "python",
   "nbconvert_exporter": "python",
   "pygments_lexer": "ipython3",
   "version": "3.11.7"
  }
 },
 "nbformat": 4,
 "nbformat_minor": 5
}
